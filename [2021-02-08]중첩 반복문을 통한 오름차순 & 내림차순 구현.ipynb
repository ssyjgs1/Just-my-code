{
  "nbformat": 4,
  "nbformat_minor": 0,
  "metadata": {
    "colab": {
      "name": "[2021-02-08] 중첩 반복문을 통한 오름차순 & 내림차순 구현.ipynb",
      "provenance": [],
      "authorship_tag": "ABX9TyMMGp15fhO41WYg6dtQSgae",
      "include_colab_link": true
    },
    "kernelspec": {
      "name": "python3",
      "display_name": "Python 3"
    }
  },
  "cells": [
    {
      "cell_type": "markdown",
      "metadata": {
        "id": "view-in-github",
        "colab_type": "text"
      },
      "source": [
        "<a href=\"https://colab.research.google.com/github/ssyjgs1/Just-my-code/blob/main/%5B2021-02-08%5D%EC%A4%91%EC%B2%A9%20%EB%B0%98%EB%B3%B5%EB%AC%B8%EC%9D%84%20%ED%86%B5%ED%95%9C%20%EC%98%A4%EB%A6%84%EC%B0%A8%EC%88%9C%20%26%20%EB%82%B4%EB%A6%BC%EC%B0%A8%EC%88%9C%20%EA%B5%AC%ED%98%84.ipynb\" target=\"_parent\"><img src=\"https://colab.research.google.com/assets/colab-badge.svg\" alt=\"Open In Colab\"/></a>"
      ]
    },
    {
      "cell_type": "code",
      "metadata": {
        "colab": {
          "base_uri": "https://localhost:8080/"
        },
        "id": "_LwmNggLRlFq",
        "outputId": "e74360ba-9da2-4f9a-b044-1009253bc2c9"
      },
      "source": [
        "list = [2,4,10,46,16]\n",
        "\n",
        "for i in list:\n",
        "    j = 0\n",
        "    while j < len(list)-1:\n",
        "        if list[j] < list[j+1]:\n",
        "            t = list[j]\n",
        "            list[j] = list[j+1]\n",
        "            list[j+1] = t\n",
        "        j = j + 1\n",
        "    \n",
        "print(list)"
      ],
      "execution_count": null,
      "outputs": [
        {
          "output_type": "stream",
          "text": [
            "[46, 16, 10, 4, 2]\n"
          ],
          "name": "stdout"
        }
      ]
    },
    {
      "cell_type": "code",
      "metadata": {
        "colab": {
          "base_uri": "https://localhost:8080/"
        },
        "id": "lS-bZ_4FSAtc",
        "outputId": "cca692dd-88d6-431a-8ef2-41bd3fe06189"
      },
      "source": [
        "for i in list:\n",
        "    j = 0\n",
        "    while j < len(list)-1:\n",
        "        if list[j] > list[j+1]:\n",
        "            t = list[j]\n",
        "            list[j] = list[j+1]\n",
        "            list[j+1] = t\n",
        "        j = j + 1\n",
        "    \n",
        "print(list)"
      ],
      "execution_count": null,
      "outputs": [
        {
          "output_type": "stream",
          "text": [
            "[2, 4, 10, 16, 46]\n"
          ],
          "name": "stdout"
        }
      ]
    }
  ]
}